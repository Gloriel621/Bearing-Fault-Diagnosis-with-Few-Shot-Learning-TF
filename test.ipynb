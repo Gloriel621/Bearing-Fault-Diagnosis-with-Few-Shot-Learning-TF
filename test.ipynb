{
 "cells": [
  {
   "cell_type": "code",
   "execution_count": 1,
   "metadata": {},
   "outputs": [
    {
     "name": "stderr",
     "output_type": "stream",
     "text": [
      "Using TensorFlow backend.\n"
     ]
    }
   ],
   "source": [
    "import tensorflow as tf\n",
    "import numpy as np\n",
    "import imp\n",
    "import pandas as pd\n",
    "\n",
    "import cwru\n",
    "import models\n",
    "import keras\n",
    "import siamese\n",
    "import utils\n",
    "\n",
    "from sklearn.metrics import accuracy_score\n",
    "from tensorflow.keras.callbacks import ModelCheckpoint,EarlyStopping\n",
    "\n",
    "tf_config = tf.compat.v1.ConfigProto() \n",
    "tf_config.gpu_options.allow_growth = True"
   ]
  },
  {
   "cell_type": "code",
   "execution_count": 2,
   "metadata": {},
   "outputs": [
    {
     "name": "stdout",
     "output_type": "stream",
     "text": [
      "0 Datasets/CWRU\\NormalBaseline\\1730\\Normal.mat\n",
      "(485643, 2)\n",
      "1 Datasets/CWRU\\NormalBaseline\\1750\\Normal.mat\n",
      "dict_keys(['__header__', '__version__', '__globals__', 'ans', 'X098_DE_time', 'X098_FE_time', 'X099_DE_time', 'X099_FE_time'])\n",
      "(483903, 2)\n",
      "2 Datasets/CWRU\\NormalBaseline\\1772\\Normal.mat\n",
      "(483903, 2)\n",
      "3 Datasets/CWRU\\12DriveEndFault\\1730\\0.007-Ball.mat\n",
      "(121556, 2)\n",
      "4 Datasets/CWRU\\12DriveEndFault\\1750\\0.007-Ball.mat\n",
      "(121556, 2)\n",
      "5 Datasets/CWRU\\12DriveEndFault\\1772\\0.007-Ball.mat\n",
      "(121410, 2)\n",
      "6 Datasets/CWRU\\12DriveEndFault\\1730\\0.014-Ball.mat\n",
      "(122136, 2)\n",
      "7 Datasets/CWRU\\12DriveEndFault\\1750\\0.014-Ball.mat\n",
      "(121991, 2)\n",
      "8 Datasets/CWRU\\12DriveEndFault\\1772\\0.014-Ball.mat\n",
      "(122136, 2)\n",
      "9 Datasets/CWRU\\12DriveEndFault\\1730\\0.021-Ball.mat\n",
      "(122136, 2)\n",
      "10 Datasets/CWRU\\12DriveEndFault\\1750\\0.021-Ball.mat\n",
      "(122136, 2)\n",
      "11 Datasets/CWRU\\12DriveEndFault\\1772\\0.021-Ball.mat\n",
      "(121701, 2)\n",
      "12 Datasets/CWRU\\12DriveEndFault\\1730\\0.007-InnerRace.mat\n",
      "(122917, 2)\n",
      "13 Datasets/CWRU\\12DriveEndFault\\1750\\0.007-InnerRace.mat\n",
      "(122136, 2)\n",
      "14 Datasets/CWRU\\12DriveEndFault\\1772\\0.007-InnerRace.mat\n",
      "(121991, 2)\n",
      "15 Datasets/CWRU\\12DriveEndFault\\1730\\0.014-InnerRace.mat\n",
      "(121701, 2)\n",
      "16 Datasets/CWRU\\12DriveEndFault\\1750\\0.014-InnerRace.mat\n",
      "(121846, 2)\n",
      "17 Datasets/CWRU\\12DriveEndFault\\1772\\0.014-InnerRace.mat\n",
      "(121846, 2)\n",
      "18 Datasets/CWRU\\12DriveEndFault\\1730\\0.021-InnerRace.mat\n",
      "(121991, 2)\n",
      "19 Datasets/CWRU\\12DriveEndFault\\1750\\0.021-InnerRace.mat\n",
      "(121846, 2)\n",
      "20 Datasets/CWRU\\12DriveEndFault\\1772\\0.021-InnerRace.mat\n",
      "(121556, 2)\n",
      "21 Datasets/CWRU\\12DriveEndFault\\1730\\0.007-OuterRace6.mat\n",
      "(122571, 2)\n",
      "22 Datasets/CWRU\\12DriveEndFault\\1750\\0.007-OuterRace6.mat\n",
      "(121410, 2)\n",
      "23 Datasets/CWRU\\12DriveEndFault\\1772\\0.007-OuterRace6.mat\n",
      "(122426, 2)\n",
      "24 Datasets/CWRU\\12DriveEndFault\\1730\\0.014-OuterRace6.mat\n",
      "(121991, 2)\n",
      "25 Datasets/CWRU\\12DriveEndFault\\1750\\0.014-OuterRace6.mat\n",
      "(121846, 2)\n",
      "26 Datasets/CWRU\\12DriveEndFault\\1772\\0.014-OuterRace6.mat\n",
      "(122136, 2)\n",
      "27 Datasets/CWRU\\12DriveEndFault\\1730\\0.021-OuterRace6.mat\n",
      "(121991, 2)\n",
      "28 Datasets/CWRU\\12DriveEndFault\\1750\\0.021-OuterRace6.mat\n",
      "(122281, 2)\n",
      "29 Datasets/CWRU\\12DriveEndFault\\1772\\0.021-OuterRace6.mat\n",
      "(121991, 2)\n",
      "19800\n",
      "(19800, 2048, 2)\n",
      "750\n",
      "(750, 2048, 2)\n"
     ]
    }
   ],
   "source": [
    "window_size = 2048\n",
    "data = cwru.CWRU(['12DriveEndFault'], ['1772', '1750', '1730'], window_size)\n",
    "print(len(data.X_train))\n",
    "print(np.shape(data.X_train))\n",
    "print(len(data.X_test))\n",
    "print(np.shape(data.X_test))"
   ]
  },
  {
   "cell_type": "code",
   "execution_count": 5,
   "metadata": {},
   "outputs": [
    {
     "data": {
      "text/plain": [
       "19800"
      ]
     },
     "execution_count": 5,
     "metadata": {},
     "output_type": "execute_result"
    }
   ],
   "source": [
    "len(data.X_train)"
   ]
  },
  {
   "cell_type": "code",
   "execution_count": 9,
   "metadata": {},
   "outputs": [
    {
     "data": {
      "text/plain": [
       "array([[ 0.10395848, -0.21161818],\n",
       "       [ 0.11695329,  0.06841636],\n",
       "       [-0.10883154,  0.20792   ],\n",
       "       ...,\n",
       "       [ 0.35776337,  0.16662364],\n",
       "       [ 0.02598962, -0.10108364],\n",
       "       [-0.07431407, -0.05814364]])"
      ]
     },
     "execution_count": 9,
     "metadata": {},
     "output_type": "execute_result"
    }
   ],
   "source": [
    "data.X_train[0]"
   ]
  },
  {
   "cell_type": "code",
   "execution_count": 7,
   "metadata": {},
   "outputs": [
    {
     "data": {
      "text/plain": [
       "(2048, 2)"
      ]
     },
     "execution_count": 7,
     "metadata": {},
     "output_type": "execute_result"
    }
   ],
   "source": [
    "np.shape(data.X_train[0])"
   ]
  },
  {
   "cell_type": "code",
   "execution_count": null,
   "metadata": {},
   "outputs": [],
   "source": []
  }
 ],
 "metadata": {
  "kernelspec": {
   "display_name": "bearing",
   "language": "python",
   "name": "python3"
  },
  "language_info": {
   "codemirror_mode": {
    "name": "ipython",
    "version": 3
   },
   "file_extension": ".py",
   "mimetype": "text/x-python",
   "name": "python",
   "nbconvert_exporter": "python",
   "pygments_lexer": "ipython3",
   "version": "3.6.13"
  },
  "orig_nbformat": 4
 },
 "nbformat": 4,
 "nbformat_minor": 2
}
